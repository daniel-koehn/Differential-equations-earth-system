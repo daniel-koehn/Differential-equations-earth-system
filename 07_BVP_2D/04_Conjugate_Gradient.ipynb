{
 "cells": [
  {
   "cell_type": "markdown",
   "metadata": {},
   "source": [
    "###### Content under Creative Commons Attribution license CC-BY 4.0, code under MIT license (c) 2019 Daniel Koehn, based on (c)2018 L.A. Barba, G.F. Forsyth [CFD Python](https://github.com/barbagroup/CFDPython#cfd-python), (c)2014 L.A. Barba, I. Hawke, B. Knaepen [Practical Numerical Methods with Python](https://github.com/numerical-mooc/numerical-mooc#practical-numerical-methods-with-python), also under CC-BY."
   ]
  },
  {
   "cell_type": "code",
   "execution_count": 1,
   "metadata": {},
   "outputs": [
    {
     "data": {
      "text/html": [
       "<link href=\"https://fonts.googleapis.com/css?family=Merriweather:300,300i,400,400i,700,700i,900,900i\" rel='stylesheet' >\n",
       "<link href=\"https://fonts.googleapis.com/css?family=Source+Sans+Pro:300,300i,400,400i,700,700i\" rel='stylesheet' >\n",
       "<link href='http://fonts.googleapis.com/css?family=Source+Code+Pro:300,400' rel='stylesheet' >\n",
       "<style>\n",
       "\n",
       "@font-face {\n",
       "    font-family: \"Computer Modern\";\n",
       "    src: url('http://mirrors.ctan.org/fonts/cm-unicode/fonts/otf/cmunss.otf');\n",
       "}\n",
       "\n",
       "\n",
       "#notebook_panel { /* main background */\n",
       "    background: rgb(245,245,245);\n",
       "}\n",
       "\n",
       "div.cell { /* set cell width */\n",
       "    width: 800px;\n",
       "}\n",
       "\n",
       "div #notebook { /* centre the content */\n",
       "    background: #fff; /* white background for content */\n",
       "    width: 1000px;\n",
       "    margin: auto;\n",
       "    padding-left: 0em;\n",
       "}\n",
       "\n",
       "#notebook li { /* More space between bullet points */\n",
       "margin-top:0.5em;\n",
       "}\n",
       "\n",
       "/* draw border around running cells */\n",
       "div.cell.border-box-sizing.code_cell.running { \n",
       "    border: 1px solid #111;\n",
       "}\n",
       "\n",
       "/* Put a solid color box around each cell and its output, visually linking them*/\n",
       "div.cell.code_cell {\n",
       "    background-color: rgb(256,256,256); \n",
       "    border-radius: 0px; \n",
       "    padding: 0.5em;\n",
       "    margin-left:1em;\n",
       "    margin-top: 1em;\n",
       "}\n",
       "\n",
       "\n",
       "div.text_cell_render{\n",
       "    font-family: 'Source Sans Pro', sans-serif;\n",
       "    line-height: 140%;\n",
       "    font-size: 110%;\n",
       "    width:680px;\n",
       "    margin-left:auto;\n",
       "    margin-right:auto;\n",
       "}\n",
       "\n",
       "/* Formatting for header cells */\n",
       ".text_cell_render h1 {\n",
       "    font-family: 'Merriweather', serif;\n",
       "    font-style:regular;\n",
       "    font-weight: bold;    \n",
       "    font-size: 250%;\n",
       "    line-height: 100%;\n",
       "    color: #004065;\n",
       "    margin-bottom: 1em;\n",
       "    margin-top: 0.5em;\n",
       "    display: block;\n",
       "}\t\n",
       ".text_cell_render h2 {\n",
       "    font-family: 'Merriweather', serif;\n",
       "    font-weight: bold; \n",
       "    font-size: 180%;\n",
       "    line-height: 100%;\n",
       "    color: #0096d6;\n",
       "    margin-bottom: 0.5em;\n",
       "    margin-top: 0.5em;\n",
       "    display: block;\n",
       "}\t\n",
       "\n",
       ".text_cell_render h3 {\n",
       "    font-family: 'Merriweather', serif;\n",
       "\tfont-size: 150%;\n",
       "    margin-top:12px;\n",
       "    margin-bottom: 3px;\n",
       "    font-style: regular;\n",
       "    color: #008367;\n",
       "}\n",
       "\n",
       ".text_cell_render h4 {    /*Use this for captions*/\n",
       "    font-family: 'Merriweather', serif;\n",
       "    font-weight: 300; \n",
       "    font-size: 100%;\n",
       "    line-height: 120%;\n",
       "    text-align: left;\n",
       "    width:500px;\n",
       "    margin-top: 1em;\n",
       "    margin-bottom: 2em;\n",
       "    margin-left: 80pt;\n",
       "    font-style: regular;\n",
       "}\n",
       "\n",
       ".text_cell_render h5 {  /*Use this for small titles*/\n",
       "    font-family: 'Source Sans Pro', sans-serif;\n",
       "    font-weight: regular;\n",
       "    font-size: 130%;\n",
       "    color: #e31937;\n",
       "    font-style: italic;\n",
       "    margin-bottom: .5em;\n",
       "    margin-top: 1em;\n",
       "    display: block;\n",
       "}\n",
       "\n",
       ".text_cell_render h6 { /*use this for copyright note*/\n",
       "    font-family: 'Source Code Pro', sans-serif;\n",
       "    font-weight: 300;\n",
       "    font-size: 9pt;\n",
       "    line-height: 100%;\n",
       "    color: grey;\n",
       "    margin-bottom: 1px;\n",
       "    margin-top: 1px;\n",
       "}\n",
       "\n",
       "    .CodeMirror{\n",
       "            font-family: \"Source Code Pro\";\n",
       "\t\t\tfont-size: 90%;\n",
       "    }\n",
       "/*    .prompt{\n",
       "        display: None;\n",
       "    }*/\n",
       "\t\n",
       "    \n",
       "    .warning{\n",
       "        color: rgb( 240, 20, 20 )\n",
       "        }  \n",
       "</style>\n",
       "<script>\n",
       "    MathJax.Hub.Config({\n",
       "                        TeX: {\n",
       "                           extensions: [\"AMSmath.js\"], \n",
       "                           equationNumbers: { autoNumber: \"AMS\", useLabelIds: true}\n",
       "                           },\n",
       "                tex2jax: {\n",
       "                    inlineMath: [ ['$','$'], [\"\\\\(\",\"\\\\)\"] ],\n",
       "                    displayMath: [ ['$$','$$'], [\"\\\\[\",\"\\\\]\"] ]\n",
       "                },\n",
       "                displayAlign: 'center', // Change this to 'center' to center equations.\n",
       "                \"HTML-CSS\": {\n",
       "                    styles: {'.MathJax_Display': {\"margin\": 4}}\n",
       "                }\n",
       "        });\n",
       "</script>\n"
      ],
      "text/plain": [
       "<IPython.core.display.HTML object>"
      ]
     },
     "execution_count": 1,
     "metadata": {},
     "output_type": "execute_result"
    }
   ],
   "source": [
    "from IPython.core.display import HTML\n",
    "css_file = '../style/custom.css'\n",
    "HTML(open(css_file, 'r').read())"
   ]
  },
  {
   "cell_type": "markdown",
   "metadata": {},
   "source": [
    "# The Conjugate Gradient Method to Solve 2D Boundary Value Problems"
   ]
  },
  {
   "cell_type": "markdown",
   "metadata": {},
   "source": [
    "In the [previous notebook](https://nbviewer.jupyter.org/github/daniel-koehn/Differential-equations-earth-system/blob/master/07_BVP_2D/03_Iterative_Solvers.ipynb), we examined how different algebraic formulations can speed up the iterative solution of the Laplace equation, compared to the simplest (but slowest) Jacobi method.  The Gauss-Seidel and successive-over relaxation methods both provide faster algebraic convergence than Jacobi. But there is still room for improvement.  \n",
    "\n",
    "In this lesson, we'll take a look at the very popular [conjugate gradient](https://en.wikipedia.org/wiki/Conjugate_gradient_method) (CG) method.  \n",
    "The CG method solves linear systems with coefficient matrices that are symmetric and positive-definite. It is either used on its own, or in conjunction with multigrid—a technique that we'll explore later on its own (optional) course module.\n",
    "\n",
    "For a real understanding of the CG method, there is no better option than studying the now-classic monograph by Jonathan Shewchuck: *\"An introduction to the conjugate gradient method without the agonizing pain\"* (1994). Here, we try to give you a brief summary to explain the implementation in Python."
   ]
  },
  {
   "cell_type": "markdown",
   "metadata": {},
   "source": [
    "### Test problem"
   ]
  },
  {
   "cell_type": "markdown",
   "metadata": {},
   "source": [
    "Let's return to the Poisson equation example from [Lesson 2](http://nbviewer.ipython.org/urls/github.com/daniel-koehn/Differential-equations-earth-system/tree/master/07_BVP_2D/02_2D_Poisson_Equation.ipynb).\n",
    "\n",
    "$$\n",
    "\\begin{equation}\n",
    "\\nabla^2 p = -2\\left(\\frac{\\pi}{2}\\right)^2\\sin\\left( \\frac{\\pi x}{L_x} \\right) \\cos\\left(\\frac{\\pi y}{L_y}\\right)\\notag\n",
    "\\end{equation}\n",
    "$$\n",
    "\n",
    "in the domain \n",
    "\n",
    "$$\n",
    "\\left\\lbrace \\begin{align*}\n",
    "0 &\\leq x\\leq 1  \\\\\n",
    "-0.5 &\\leq y \\leq 0.5 \n",
    "\\end{align*} \\right.\n",
    "$$\n",
    "\n",
    "where $L_x = L_y = 1$ and with boundary conditions \n",
    "\n",
    "$$\n",
    "p=0 \\text{ at } \\left\\lbrace \n",
    "\\begin{align*}\n",
    "x&=0\\\\\n",
    "x&=1\\\\\n",
    "y&=-0.5\\\\\n",
    "y&=0.5\n",
    "\\end{align*} \\right.\n",
    "$$\n",
    "\n",
    "We will solve this equation by assuming an initial state of $p=0$ everywhere, and applying boundary conditions to relax via the Laplacian operator."
   ]
  },
  {
   "cell_type": "markdown",
   "metadata": {},
   "source": [
    "## Head in the right direction!"
   ]
  },
  {
   "cell_type": "markdown",
   "metadata": {},
   "source": [
    "Recall that in its discretized form, the Poisson equation reads,\n",
    "\n",
    "$$\n",
    "\\frac{p_{i+1,j}^{k}-2p_{i,j}^{k}+p_{i-1,j}^{k}}{\\Delta x^2}+\\frac{p_{i,j+1}^{k}-2 p_{i,j}^{k}+p_{i,j-1}^{k}}{\\Delta y^2}=b_{i,j}^{k}\n",
    "$$\n",
    "\n",
    "The left hand side represents a linear combination of the values of $p$ at several grid points and this linear combination has to be equal to the value of the source term, $b$, on the right hand side.\n",
    "\n",
    "Now imagine you gather the values $p_{i,j}$ of $p$ at all grid points into a big vector ${\\bf p}$ and you do the same for $b$ using the same ordering. Both vectors ${\\bf p}$ and ${\\bf b}$ contain $N=nx*ny$ values and thus belong to $\\mathbb{R}^N$. The discretized Poisson equation corresponds to the following linear system:\n",
    "\n",
    "$$\n",
    "\\begin{equation}\n",
    "A{\\bf p}={\\bf b}, \\notag\n",
    "\\end{equation}\n",
    "$$\n",
    "\n",
    "where $A$ is an $N\\times N$ matrix. Although we will not directly use the matrix form of the system in the CG algorithm, it is useful to examine the problem this way to understand how the method works.\n",
    "\n",
    "All iterative methods start with an initial guess, $\\mathbf{p}^0$, and modify it in a way such that we approach the solution. This can be viewed as modifying the vector of discrete $p$ values on the grid by adding another vector, i.e., taking a step of magnitude $\\alpha$ in a direction $\\mathbf{d}$, as follows:\n",
    "\n",
    "$$\n",
    "\\begin{equation}\n",
    "{\\bf p}^{k+1}={\\bf p}^k + \\alpha {\\bf d}^k \\notag\n",
    "\\end{equation}\n",
    "$$\n",
    "\n",
    "The iterations march towards the solution by taking steps along the direction vectors ${\\bf d}^k$, with the scalar $\\alpha$ dictating how big a step to take at each iteration.  We *could* converge faster to the solution if we just knew how to carefully choose the direction vectors and the size of the steps. But how to do that?"
   ]
  },
  {
   "cell_type": "markdown",
   "metadata": {},
   "source": [
    "## The residual"
   ]
  },
  {
   "cell_type": "markdown",
   "metadata": {},
   "source": [
    "One of the tools we use to find the right direction to step to is called the *residual*.  What is the residual?  We're glad you asked!\n",
    "\n",
    "We know that, as the iterations proceed, there will be some error between the calculated value, $p^k_i$, and the exact solution $p^{exact}_i$.  We may not know what the exact solution is, but we know it's out there.  The error is:\n",
    "\n",
    "$$\n",
    "\\begin{equation}\n",
    "e^k_i = p^k_i - p^{exact}_i \\notag\n",
    "\\end{equation}\n",
    "$$\n",
    "\n",
    "**Note:** We are talking about error at a specific point $i$, not a measure of error across the entire domain.  \n",
    "\n",
    "What if we recast the Poisson equation in terms of a not-perfectly-relaxed $\\bf p^k$?\n",
    "\n",
    "$$\n",
    "\\begin{equation}\n",
    "A \\bf p^k \\approx b \\notag\n",
    "\\end{equation}\n",
    "$$\n",
    "\n",
    "We write this as an approximation because $\\bf p^k \\neq p$.  To \"fix\" the equation, we need to add an extra term to account for the difference in the Poisson equation $-$ that extra term is called the residual.  We can write out the modified Poisson equation like this:\n",
    "\n",
    "$$\n",
    "\\begin{equation}\n",
    "{\\bf r^k} + A \\bf p^k = b \\notag\n",
    "\\end{equation}\n",
    "$$"
   ]
  },
  {
   "cell_type": "markdown",
   "metadata": {},
   "source": [
    "## The method of steepest descent"
   ]
  },
  {
   "cell_type": "markdown",
   "metadata": {},
   "source": [
    "Before considering the more-complex CG algorithm, it is helpful to introduce a simpler approach called the *method of steepest descent*. At iteration $0$, we choose an initial guess. Unless we are immensely lucky, it will not satisfy the Poisson equation and we will have,\n",
    "\n",
    "$$\n",
    "\\begin{equation}\n",
    "{\\bf b}-A{\\bf p}^0={\\bf r}^0\\ne {\\bf 0} \\notag\n",
    "\\end{equation}\n",
    "$$\n",
    "\n",
    "The vector ${\\bf r}^0$ is the initial residual and measures how far we are from satisfying the linear system. We can monitor the residual vector at each iteration, as it gets (hopefully) smaller and smaller: \n",
    "\n",
    "$$\n",
    "\\begin{equation}\n",
    "{\\bf r}^k={\\bf b}-A{\\bf p}^k \\notag\n",
    "\\end{equation}\n",
    "$$\n",
    "\n",
    "We make two choices in the method of steepest descent:\n",
    "\n",
    "1. the direction vectors are the residuals ${\\bf d}^k = {\\bf r}^k$, and\n",
    "2. the length of the step makes the $k+1^{th}$ residual orthogonal to the $k^{th}$ residual.\n",
    "\n",
    "There are good (not very complicated) reasons to justify these choices and you should read one of the references to understand them. But since we want you to converge to the end of the notebook in a shorter time, please accept them for now. \n",
    "\n",
    "Choice 2 requires that,\n",
    "\n",
    "$$\n",
    "\\begin{align}\n",
    "{\\bf r}^{k+1}\\cdot {\\bf r}^{k} = 0 \\nonumber \\\\\n",
    "\\Leftrightarrow ({\\bf b}-A{\\bf p}^{k+1}) \\cdot {\\bf r}^{k} = 0 \\nonumber \\\\\n",
    "\\Leftrightarrow ({\\bf b}-A({\\bf p}^{k}+\\alpha {\\bf r}^k)) \\cdot {\\bf r}^{k} = 0 \\nonumber \\\\\n",
    "\\Leftrightarrow ({\\bf r}^k-\\alpha A{\\bf r}^k) \\cdot {\\bf r}^{k} = 0 \\nonumber \\\\\n",
    "\\alpha = \\frac{{\\bf r}^k \\cdot {\\bf r}^k}{A{\\bf r}^k \\cdot {\\bf r}^k}. \\notag\n",
    "\\end{align}\n",
    "$$\n",
    "\n",
    "We are now ready to test this algorithm.\n",
    "\n",
    "To begin, let's import libraries and some helper functions and set up our mesh."
   ]
  },
  {
   "cell_type": "code",
   "execution_count": 2,
   "metadata": {},
   "outputs": [],
   "source": [
    "import numpy\n",
    "from helper import l2_norm, poisson_2d_jacobi, poisson_solution\n",
    "\n",
    "# import JIT from Numba\n",
    "from numba import jit"
   ]
  },
  {
   "cell_type": "code",
   "execution_count": 3,
   "metadata": {},
   "outputs": [],
   "source": [
    "# Set parameters.\n",
    "nx = 101  # number of points in the x direction\n",
    "ny = 101  # number of points in the y direction\n",
    "xmin, xmax = 0.0, 1.0  # limits in the x direction\n",
    "ymin, ymax = -0.5, 0.5  # limits in the y direction\n",
    "Lx = xmax - xmin  # domain length in the x direction\n",
    "Ly = ymax - ymin  # domain length in the y direction\n",
    "dx = Lx / (nx - 1)  # grid spacing in the x direction\n",
    "dy = Ly / (ny - 1)  # grid spacing in the y direction\n",
    "\n",
    "# Create the gridline locations and the mesh grid.\n",
    "x = numpy.linspace(xmin, xmax, num=nx)\n",
    "y = numpy.linspace(ymin, ymax, num=ny)\n",
    "X, Y = numpy.meshgrid(x, y)\n",
    "\n",
    "# Create the source term.\n",
    "b = (-2.0 * (numpy.pi / Lx) * (numpy.pi / Ly) *\n",
    "     numpy.sin(numpy.pi * X / Lx) *\n",
    "     numpy.cos(numpy.pi * Y / Ly))\n",
    "\n",
    "# Set the initial conditions.\n",
    "p0 = numpy.zeros((ny, nx))\n",
    "\n",
    "# Compute the analytical solution.\n",
    "p_exact = poisson_solution(x, y, Lx, Ly)"
   ]
  },
  {
   "cell_type": "markdown",
   "metadata": {},
   "source": [
    "### Time to code steepest descent!  \n",
    "\n",
    "Let's quickly review the solution process:\n",
    "\n",
    "1. Calculate the residual, $\\bf r^k$, which also serves as the direction vector, $\\bf d^k$\n",
    "2. Calculate the step size $\\alpha$\n",
    "3. Update ${\\bf p}^{k+1}={\\bf p}^k + \\alpha {\\bf d}^k$"
   ]
  },
  {
   "cell_type": "markdown",
   "metadata": {},
   "source": [
    "##### How do we calculate the residual?  \n",
    "\n",
    "We have an equation for the residual above:\n",
    "\n",
    "$$\n",
    "\\begin{equation}\n",
    "{\\bf r}^k={\\bf b}-A{\\bf p}^k \\notag\n",
    "\\end{equation}\n",
    "$$\n",
    "\n",
    "Remember that $A$ is just a stand-in for the discrete Laplacian, which taking $\\Delta x=\\Delta y$ is:\n",
    "\n",
    "$$\n",
    "\\begin{equation}\n",
    "\\nabla^2 p^k = \\frac{-4p^k_{i,j} + \\left(p^{k}_{i,j-1} + p^k_{i,j+1} + p^{k}_{i-1,j} + p^k_{i+1,j} \\right)}{\\Delta x^2} \\notag\n",
    "\\end{equation}\n",
    "$$"
   ]
  },
  {
   "cell_type": "markdown",
   "metadata": {},
   "source": [
    "##### What about calculating $\\alpha$?\n",
    "\n",
    "The calculation of $\\alpha$ is relatively straightforward, but does require evaluating the term $A{\\bf r^k}$, but we just wrote the discrete $A$ operator above. You just need to apply that same formula to $\\mathbf{r}^k$. First, we define a function `A(p,nx,ny)` to  compute the action of the Laplace operator $A$ on the variable $p$:"
   ]
  },
  {
   "cell_type": "code",
   "execution_count": 4,
   "metadata": {},
   "outputs": [],
   "source": [
    "@jit(nopython=True) # use Just-In-Time (JIT) Compilation for C-performance\n",
    "def A(p,nx,ny):\n",
    "    \n",
    "    A = numpy.zeros((ny,nx))\n",
    "    \n",
    "    for i in range(1,nx-1):\n",
    "        for j in range(1,ny-1):\n",
    "            \n",
    "            # Apply the Laplacian operator to p.\n",
    "            A[j, i] = (-4.0 * p[j, i] + p[j, i-1] + p[j, i+1] + p[j-1, i] + p[j+1, i]) / dx**2                                \n",
    "            \n",
    "    return A"
   ]
  },
  {
   "cell_type": "markdown",
   "metadata": {},
   "source": [
    "Then, we can solve the 2D Poisson equation using the steepest descent method"
   ]
  },
  {
   "cell_type": "code",
   "execution_count": 5,
   "metadata": {},
   "outputs": [],
   "source": [
    "def poisson_2d_steepest_descent(p0, b, dx, dy,\n",
    "                                maxiter=20000, rtol=1e-6):\n",
    "    \"\"\"\n",
    "    Solves the 2D Poisson equation on a uniform grid,\n",
    "    with the same grid spacing in both directions,\n",
    "    for a given forcing term\n",
    "    using the method of steepest descent.\n",
    "    \n",
    "    The function assumes Dirichlet boundary conditions with value zero.\n",
    "    The exit criterion of the solver is based on the relative L2-norm\n",
    "    of the solution difference between two consecutive iterations.\n",
    "\n",
    "    Parameters\n",
    "    ----------\n",
    "    p0 : numpy.ndarray\n",
    "        The initial solution as a 2D array of floats.\n",
    "    b : numpy.ndarray\n",
    "        The forcing term as a 2D array of floats.\n",
    "    dx : float\n",
    "        Grid spacing in the x direction.\n",
    "    dy : float\n",
    "        Grid spacing in the y direction.\n",
    "    maxiter : integer, optional\n",
    "        Maximum number of iterations to perform;\n",
    "        default: 20000.\n",
    "    rtol : float, optional\n",
    "        Relative tolerance for convergence;\n",
    "        default: 1e-6.\n",
    "\n",
    "    Returns\n",
    "    -------\n",
    "    p : numpy.ndarray\n",
    "        The solution after relaxation as a 2D array of floats.\n",
    "    ite : integer\n",
    "        The number of iterations performed.\n",
    "    conv : list\n",
    "        The convergence history as a list of floats.\n",
    "    \"\"\"\n",
    "    \n",
    "    # estimate nx, ny\n",
    "    ny, nx = numpy.shape(p0)\n",
    "    \n",
    "    # copy initial guess p0\n",
    "    p = p0.copy()\n",
    "    r = numpy.zeros_like(p)  # initial residual\n",
    "    Ar = numpy.zeros_like(p)  # to store the mat-vec multiplication\n",
    "    \n",
    "    conv = []  # convergence history\n",
    "    diff = rtol + 1  # initial difference\n",
    "    ite = 0  # iteration index\n",
    "    \n",
    "    while diff > rtol and ite < maxiter:\n",
    "        \n",
    "        # stoge old p\n",
    "        pk = p.copy()\n",
    "        \n",
    "        # Compute the residual.\n",
    "        r = b - A(p,nx,ny)\n",
    "        \n",
    "        # Compute the Laplacian of the residual.\n",
    "        Ar = A(r,nx,ny)\n",
    "        \n",
    "        # Compute the step size.\n",
    "        alpha = numpy.sum(r * r) / numpy.sum(r * Ar)\n",
    "        \n",
    "        # Update the solution.\n",
    "        p = pk + alpha * r\n",
    "        \n",
    "        # Dirichlet boundary conditions are automatically enforced.\n",
    "        # Compute the relative L2-norm of the difference.\n",
    "        diff = l2_norm(p, pk)\n",
    "        conv.append(diff)\n",
    "        ite += 1\n",
    "    \n",
    "    return p, ite, conv"
   ]
  },
  {
   "cell_type": "markdown",
   "metadata": {},
   "source": [
    "Let's see how it performs on our example problem."
   ]
  },
  {
   "cell_type": "code",
   "execution_count": 6,
   "metadata": {},
   "outputs": [
    {
     "name": "stdout",
     "output_type": "stream",
     "text": [
      "Method of steepest descent: 2 iterations to reach a relative difference of 1.3287062448700576e-16\n"
     ]
    }
   ],
   "source": [
    "# Compute the solution using the method of steepest descent.\n",
    "p, ites, conv_sd = poisson_2d_steepest_descent(p0, b, dx, dy, maxiter=20000, rtol=1e-10)\n",
    "print('Method of steepest descent: {} iterations '.format(ites) +\n",
    "      'to reach a relative difference of {}'.format(conv_sd[-1]))"
   ]
  },
  {
   "cell_type": "code",
   "execution_count": 7,
   "metadata": {},
   "outputs": [
    {
     "data": {
      "text/plain": [
       "8.225076220957216e-05"
      ]
     },
     "execution_count": 7,
     "metadata": {},
     "output_type": "execute_result"
    }
   ],
   "source": [
    "# Compute the relative L2-norm of the error.\n",
    "l2_norm(p, p_exact)"
   ]
  },
  {
   "cell_type": "markdown",
   "metadata": {},
   "source": [
    "Not bad! it took only *two* iterations to reach a solution that meets our exit criterion. Although this seems great, the steepest descent algorithm is not too good when used with large systems or more complicated right-hand sides in the Poisson equation (we'll examine this below!). We can get better performance if we take a little more care in selecting the direction vectors, $\\bf d^k$."
   ]
  },
  {
   "cell_type": "markdown",
   "metadata": {},
   "source": [
    "## The method of conjugate gradients"
   ]
  },
  {
   "cell_type": "markdown",
   "metadata": {},
   "source": [
    "With steepest descent, we know that two **successive** jumps are orthogonal, but that's about it.  There is nothing to prevent the algorithm from making several jumps in the same (or a similar) direction.  Imagine you wanted to go from the intersection of 5th Avenue and 23rd Street to the intersection of 9th Avenue and 30th Street. Knowing that each segment has the same computational cost (one iteration), would you follow the red path or the green path?"
   ]
  },
  {
   "cell_type": "markdown",
   "metadata": {},
   "source": [
    "<img src=\"./figures/jumps.png\" width=350>"
   ]
  },
  {
   "cell_type": "markdown",
   "metadata": {},
   "source": [
    "#### Figure 1. Do you take the red path or the green path?"
   ]
  },
  {
   "cell_type": "markdown",
   "metadata": {
    "variables": {
     "\\bf r}^{k+1} \\cdot {\\bf r}^{k+1": {}
    }
   },
   "source": [
    "The method of conjugate gradients reduces the number of jumps by making sure the algorithm never selects the same direction twice. The size of the jumps is now given by:\n",
    "\n",
    "$$\n",
    "\\begin{equation}\n",
    "\\alpha = \\frac{{\\bf r}^k \\cdot {\\bf r}^k}{A{\\bf d}^k \\cdot {\\bf d}^k} \\notag\n",
    "\\end{equation}\n",
    "$$\n",
    "\n",
    "and the direction vectors by:\n",
    "\n",
    "$$\n",
    "\\begin{equation}\n",
    "{\\bf d}^{k+1}={\\bf r}^{k+1}+\\beta{\\bf d}^{k} \\notag\n",
    "\\end{equation}\n",
    "$$\n",
    "\n",
    "where $\\beta = \\frac{{\\bf r}^{k+1} \\cdot {\\bf r}^{k+1}}{{\\bf r}^k \\cdot {\\bf r}^k}$.\n",
    "\n",
    "The search directions are no longer equal to the residuals but are instead a  linear combination of the residual and the previous search direction. It turns out that CG converges to the exact solution (up to machine accuracy) in a maximum of $N$ iterations! When one is satisfied with an approximate solution, many fewer steps are needed than with any other method. Again, the derivation of the algorithm is not immensely difficult and can be found in Shewchuk (1994)."
   ]
  },
  {
   "cell_type": "markdown",
   "metadata": {},
   "source": [
    "### Implementing Conjugate Gradients"
   ]
  },
  {
   "cell_type": "markdown",
   "metadata": {
    "variables": {
     "\\bf r}^{k+1} \\cdot {\\bf r}^{k+1": {}
    }
   },
   "source": [
    "We will again update $\\bf p$ according to \n",
    "\n",
    "$$\n",
    "\\begin{equation}\n",
    "{\\bf p}^{k+1}={\\bf p}^k + \\alpha {\\bf d}^k \\notag\n",
    "\\end{equation}\n",
    "$$\n",
    "\n",
    "but use the modified equations above to calculate $\\alpha$ and ${\\bf d}^k$.  \n",
    "\n",
    "You may have noticed that $\\beta$ depends on both ${\\bf r}^{k+1}$ and ${\\bf r}^k$ and that makes the calculation of ${\\bf d}^0$ a little bit tricky.  Or impossible (using the formula above).  Instead we set ${\\bf d}^0 = {\\bf r}^0$ for the first step and then switch for all subsequent iterations.  \n",
    "\n",
    "Thus, the full set of steps for the method of conjugate gradients is:\n",
    "\n",
    "Calculate ${\\bf d}^0 = {\\bf r}^0$ (just  once), then\n",
    "\n",
    "1. Calculate $\\alpha = \\frac{{\\bf r}^k \\cdot {\\bf r}^k}{A{\\bf d}^k \\cdot {\\bf d}^k}$\n",
    "2. Update ${\\bf p}^{k+1}$\n",
    "3. Calculate ${\\bf r}^{k+1} = {\\bf r}^k - \\alpha A {\\bf d}^k$ $\\ \\ \\ \\ $(see <a href='#references'>Shewchuk (1994)</a>)\n",
    "4. Calculate $\\beta = \\frac{{\\bf r}^{k+1} \\cdot {\\bf r}^{k+1}}{{\\bf r}^k \\cdot {\\bf r}^k}$\n",
    "5. Calculate ${\\bf d}^{k+1}={\\bf r}^{k+1}+\\beta{\\bf d}^{k}$\n",
    "6. Repeat!"
   ]
  },
  {
   "cell_type": "code",
   "execution_count": 8,
   "metadata": {},
   "outputs": [],
   "source": [
    "def poisson_2d_conjugate_gradient(p0, b, dx, dy,\n",
    "                                  maxiter=20000, rtol=1e-6):\n",
    "    \"\"\"\n",
    "    Solves the 2D Poisson equation on a uniform grid,\n",
    "    with the same grid spacing in both directions,\n",
    "    for a given forcing term\n",
    "    using the method of conjugate gradients.\n",
    "    \n",
    "    The function assumes Dirichlet boundary conditions with value zero.\n",
    "    The exit criterion of the solver is based on the relative L2-norm\n",
    "    of the solution difference between two consecutive iterations.\n",
    "\n",
    "    Parameters\n",
    "    ----------\n",
    "    p0 : numpy.ndarray\n",
    "        The initial solution as a 2D array of floats.\n",
    "    b : numpy.ndarray\n",
    "        The forcing term as a 2D array of floats.\n",
    "    dx : float\n",
    "        Grid spacing in the x direction.\n",
    "    dy : float\n",
    "        Grid spacing in the y direction.\n",
    "    maxiter : integer, optional\n",
    "        Maximum number of iterations to perform;\n",
    "        default: 20000.\n",
    "    rtol : float, optional\n",
    "        Relative tolerance for convergence;\n",
    "        default: 1e-6.\n",
    "\n",
    "    Returns\n",
    "    -------\n",
    "    p : numpy.ndarray\n",
    "        The solution after relaxation as a 2D array of floats.\n",
    "    ite : integer\n",
    "        The number of iterations performed.\n",
    "    conv : list\n",
    "        The convergence history as a list of floats.\n",
    "    \"\"\"\n",
    "\n",
    "    # estimate nx, ny\n",
    "    ny, nx = numpy.shape(p0)\n",
    "    \n",
    "    # copy initial guess p0\n",
    "    p = p0.copy()\n",
    "    r = numpy.zeros_like(p)  # initial residual\n",
    "    Ad = numpy.zeros_like(p)  # to store the mat-vec multiplication\n",
    "    \n",
    "    conv = []  # convergence history\n",
    "    diff = rtol + 1  # initial difference\n",
    "    ite = 0  # iteration index\n",
    "    \n",
    "    # Compute the initial residual.\n",
    "    r = b - A(p,nx,ny)\n",
    "    \n",
    "    # Set the initial search direction to be the residual.\n",
    "    d = r.copy()\n",
    "    \n",
    "    # Apply Conjugate Gradient method\n",
    "    while diff > rtol and ite < maxiter:\n",
    "        \n",
    "        pk = p.copy()\n",
    "        rk = r.copy()\n",
    "        \n",
    "        # Compute the Laplacian of the search direction.\n",
    "        Ad = A(d,nx,ny)\n",
    "        \n",
    "        # Compute the step size.\n",
    "        alpha = numpy.sum(r * r) / numpy.sum(d * Ad)\n",
    "        \n",
    "        # Update the solution.\n",
    "        p = pk + alpha * d\n",
    "        \n",
    "        # Update the residual.\n",
    "        r = rk - alpha * Ad\n",
    "        \n",
    "        # Update the search direction.\n",
    "        beta = numpy.sum(r * r) / numpy.sum(rk * rk)\n",
    "        d = r + beta * d\n",
    "        \n",
    "        # Dirichlet boundary conditions are automatically enforced.\n",
    "        # Compute the relative L2-norm of the difference.\n",
    "        diff = l2_norm(p, pk)\n",
    "        conv.append(diff)\n",
    "        ite += 1\n",
    "        \n",
    "    return p, ite, conv"
   ]
  },
  {
   "cell_type": "code",
   "execution_count": 9,
   "metadata": {},
   "outputs": [
    {
     "name": "stdout",
     "output_type": "stream",
     "text": [
      "Method of conjugate gradients: 2 iterations to reach a relative difference of 1.304551586061117e-16\n"
     ]
    }
   ],
   "source": [
    "# Compute the solution using the method of conjugate gradients.\n",
    "p, ites, conv_cg = poisson_2d_conjugate_gradient(p0, b, dx, dy, maxiter=20000, rtol=1e-10)\n",
    "print('Method of conjugate gradients: {} iterations '.format(ites) +\n",
    "      'to reach a relative difference of {}'.format(conv_cg[-1]))"
   ]
  },
  {
   "cell_type": "code",
   "execution_count": 10,
   "metadata": {},
   "outputs": [
    {
     "data": {
      "text/plain": [
       "8.225076220957019e-05"
      ]
     },
     "execution_count": 10,
     "metadata": {},
     "output_type": "execute_result"
    }
   ],
   "source": [
    "# Compute the relative L2-norm of the error.\n",
    "l2_norm(p, p_exact)"
   ]
  },
  {
   "cell_type": "markdown",
   "metadata": {},
   "source": [
    "The method of conjugate gradients also took two iterations to reach a solution that meets our exit criterion. But let's compare this to the number of iterations needed for the Jacobi iteration:"
   ]
  },
  {
   "cell_type": "code",
   "execution_count": 11,
   "metadata": {},
   "outputs": [
    {
     "name": "stdout",
     "output_type": "stream",
     "text": [
      "Jacobi relaxation: 31227 iterations to reach a relative difference of 9.997923503623598e-11\n"
     ]
    }
   ],
   "source": [
    "# Compute the solution using Jacobi relaxation.\n",
    "p, ites, conv_jacobi = poisson_2d_jacobi(p0, b, dx, dy, maxiter=40000, rtol=1e-10)\n",
    "print('Jacobi relaxation: {} iterations '.format(ites) +\n",
    "      'to reach a relative difference of {}'.format(conv_jacobi[-1]))"
   ]
  },
  {
   "cell_type": "markdown",
   "metadata": {},
   "source": [
    "For our test problem, we get substantial gains in terms of computational cost using the method of steepest descent or the conjugate gradient method."
   ]
  },
  {
   "cell_type": "markdown",
   "metadata": {},
   "source": [
    "## More difficult Poisson problems"
   ]
  },
  {
   "cell_type": "markdown",
   "metadata": {},
   "source": [
    "The conjugate gradient method really shines when one needs to solve more difficult Poisson problems. To get an insight into this, let's solve the Poisson problem using the same boundary conditions as the previous problem but with the following right-hand side,\n",
    "\n",
    "$$\n",
    "\\begin{equation}\n",
    "b = \\sin\\left(\\frac{\\pi x}{L_x}\\right) \\cos\\left(\\frac{\\pi y}{L_y}\\right) + \\sin\\left(\\frac{6\\pi x}{L_x}\\right) \\cos\\left(\\frac{6\\pi y}{L_y}\\right) \\notag\n",
    "\\end{equation}\n",
    "$$"
   ]
  },
  {
   "cell_type": "code",
   "execution_count": 12,
   "metadata": {},
   "outputs": [],
   "source": [
    "# Modify the source term of the Poisson system.\n",
    "b = (numpy.sin(numpy.pi * X / Lx) *\n",
    "     numpy.cos(numpy.pi * Y / Ly) +\n",
    "     numpy.sin(6.0 * numpy.pi * X / Lx) *\n",
    "     numpy.sin(6.0 * numpy.pi * Y / Ly))"
   ]
  },
  {
   "cell_type": "code",
   "execution_count": 13,
   "metadata": {},
   "outputs": [
    {
     "name": "stdout",
     "output_type": "stream",
     "text": [
      "Jacobi relaxation: 31226 iterations\n",
      "Method of steepest descent: 27053 iterations\n",
      "Method of conjugate gradients: 3 iterations\n"
     ]
    }
   ],
   "source": [
    "maxiter, rtol = 40000, 1e-10\n",
    "p, ites, conv = poisson_2d_jacobi(p0, b, dx, dy,\n",
    "                                  maxiter=maxiter, rtol=rtol)\n",
    "print('Jacobi relaxation: {} iterations'.format(ites))\n",
    "p, ites, conv = poisson_2d_steepest_descent(p0, b, dx, dy,\n",
    "                                            maxiter=maxiter,\n",
    "                                            rtol=rtol)\n",
    "print('Method of steepest descent: {} iterations'.format(ites))\n",
    "p, ites, conv = poisson_2d_conjugate_gradient(p0, b, dx, dy,\n",
    "                                              maxiter=maxiter,\n",
    "                                              rtol=rtol)\n",
    "print('Method of conjugate gradients: {} iterations'.format(ites))"
   ]
  },
  {
   "cell_type": "markdown",
   "metadata": {},
   "source": [
    "Now we can really appreciate the marvel of the CG method!"
   ]
  },
  {
   "cell_type": "markdown",
   "metadata": {},
   "source": [
    "## References"
   ]
  },
  {
   "cell_type": "markdown",
   "metadata": {},
   "source": [
    "<a id='references'></a>\n",
    "Shewchuk, J. (1994). [An Introduction to the Conjugate Gradient Method Without the Agonizing Pain (PDF)](http://www.cs.cmu.edu/~quake-papers/painless-conjugate-gradient.pdf)\n",
    "\n",
    "Ilya Kuzovkin, [The Concept of Conjugate Gradient Descent in Python](http://ikuz.eu/2015/04/15/the-concept-of-conjugate-gradient-descent-in-python/)"
   ]
  }
 ],
 "metadata": {
  "anaconda-cloud": {},
  "kernelspec": {
   "display_name": "Python 3",
   "language": "python",
   "name": "python3"
  },
  "language_info": {
   "codemirror_mode": {
    "name": "ipython",
    "version": 3
   },
   "file_extension": ".py",
   "mimetype": "text/x-python",
   "name": "python",
   "nbconvert_exporter": "python",
   "pygments_lexer": "ipython3",
   "version": "3.7.4"
  }
 },
 "nbformat": 4,
 "nbformat_minor": 2
}
