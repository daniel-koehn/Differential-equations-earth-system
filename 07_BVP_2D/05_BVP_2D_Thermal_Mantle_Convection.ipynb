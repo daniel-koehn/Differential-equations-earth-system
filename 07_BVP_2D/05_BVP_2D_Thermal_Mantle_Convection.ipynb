{
 "cells": [
  {
   "cell_type": "markdown",
   "metadata": {},
   "source": [
    "###### Content under Creative Commons Attribution license CC-BY 4.0, code under MIT license (c) 2019 Daniel Koehn, based on (c)2018 L.A. Barba, G.F. Forsyth [CFD Python](https://github.com/barbagroup/CFDPython#cfd-python), (c)2014 L.A. Barba, I. Hawke, B. Knaepen [Practical Numerical Methods with Python](https://github.com/numerical-mooc/numerical-mooc#practical-numerical-methods-with-python), also under CC-BY."
   ]
  },
  {
   "cell_type": "code",
   "execution_count": 1,
   "metadata": {},
   "outputs": [
    {
     "data": {
      "text/html": [
       "<link href=\"https://fonts.googleapis.com/css?family=Merriweather:300,300i,400,400i,700,700i,900,900i\" rel='stylesheet' >\n",
       "<link href=\"https://fonts.googleapis.com/css?family=Source+Sans+Pro:300,300i,400,400i,700,700i\" rel='stylesheet' >\n",
       "<link href='http://fonts.googleapis.com/css?family=Source+Code+Pro:300,400' rel='stylesheet' >\n",
       "<style>\n",
       "\n",
       "@font-face {\n",
       "    font-family: \"Computer Modern\";\n",
       "    src: url('http://mirrors.ctan.org/fonts/cm-unicode/fonts/otf/cmunss.otf');\n",
       "}\n",
       "\n",
       "\n",
       "#notebook_panel { /* main background */\n",
       "    background: rgb(245,245,245);\n",
       "}\n",
       "\n",
       "div.cell { /* set cell width */\n",
       "    width: 800px;\n",
       "}\n",
       "\n",
       "div #notebook { /* centre the content */\n",
       "    background: #fff; /* white background for content */\n",
       "    width: 1000px;\n",
       "    margin: auto;\n",
       "    padding-left: 0em;\n",
       "}\n",
       "\n",
       "#notebook li { /* More space between bullet points */\n",
       "margin-top:0.5em;\n",
       "}\n",
       "\n",
       "/* draw border around running cells */\n",
       "div.cell.border-box-sizing.code_cell.running { \n",
       "    border: 1px solid #111;\n",
       "}\n",
       "\n",
       "/* Put a solid color box around each cell and its output, visually linking them*/\n",
       "div.cell.code_cell {\n",
       "    background-color: rgb(256,256,256); \n",
       "    border-radius: 0px; \n",
       "    padding: 0.5em;\n",
       "    margin-left:1em;\n",
       "    margin-top: 1em;\n",
       "}\n",
       "\n",
       "\n",
       "div.text_cell_render{\n",
       "    font-family: 'Source Sans Pro', sans-serif;\n",
       "    line-height: 140%;\n",
       "    font-size: 110%;\n",
       "    width:680px;\n",
       "    margin-left:auto;\n",
       "    margin-right:auto;\n",
       "}\n",
       "\n",
       "/* Formatting for header cells */\n",
       ".text_cell_render h1 {\n",
       "    font-family: 'Merriweather', serif;\n",
       "    font-style:regular;\n",
       "    font-weight: bold;    \n",
       "    font-size: 250%;\n",
       "    line-height: 100%;\n",
       "    color: #004065;\n",
       "    margin-bottom: 1em;\n",
       "    margin-top: 0.5em;\n",
       "    display: block;\n",
       "}\t\n",
       ".text_cell_render h2 {\n",
       "    font-family: 'Merriweather', serif;\n",
       "    font-weight: bold; \n",
       "    font-size: 180%;\n",
       "    line-height: 100%;\n",
       "    color: #0096d6;\n",
       "    margin-bottom: 0.5em;\n",
       "    margin-top: 0.5em;\n",
       "    display: block;\n",
       "}\t\n",
       "\n",
       ".text_cell_render h3 {\n",
       "    font-family: 'Merriweather', serif;\n",
       "\tfont-size: 150%;\n",
       "    margin-top:12px;\n",
       "    margin-bottom: 3px;\n",
       "    font-style: regular;\n",
       "    color: #008367;\n",
       "}\n",
       "\n",
       ".text_cell_render h4 {    /*Use this for captions*/\n",
       "    font-family: 'Merriweather', serif;\n",
       "    font-weight: 300; \n",
       "    font-size: 100%;\n",
       "    line-height: 120%;\n",
       "    text-align: left;\n",
       "    width:500px;\n",
       "    margin-top: 1em;\n",
       "    margin-bottom: 2em;\n",
       "    margin-left: 80pt;\n",
       "    font-style: regular;\n",
       "}\n",
       "\n",
       ".text_cell_render h5 {  /*Use this for small titles*/\n",
       "    font-family: 'Source Sans Pro', sans-serif;\n",
       "    font-weight: regular;\n",
       "    font-size: 130%;\n",
       "    color: #e31937;\n",
       "    font-style: italic;\n",
       "    margin-bottom: .5em;\n",
       "    margin-top: 1em;\n",
       "    display: block;\n",
       "}\n",
       "\n",
       ".text_cell_render h6 { /*use this for copyright note*/\n",
       "    font-family: 'Source Code Pro', sans-serif;\n",
       "    font-weight: 300;\n",
       "    font-size: 9pt;\n",
       "    line-height: 100%;\n",
       "    color: grey;\n",
       "    margin-bottom: 1px;\n",
       "    margin-top: 1px;\n",
       "}\n",
       "\n",
       "    .CodeMirror{\n",
       "            font-family: \"Source Code Pro\";\n",
       "\t\t\tfont-size: 90%;\n",
       "    }\n",
       "/*    .prompt{\n",
       "        display: None;\n",
       "    }*/\n",
       "\t\n",
       "    \n",
       "    .warning{\n",
       "        color: rgb( 240, 20, 20 )\n",
       "        }  \n",
       "</style>\n",
       "<script>\n",
       "    MathJax.Hub.Config({\n",
       "                        TeX: {\n",
       "                           extensions: [\"AMSmath.js\"], \n",
       "                           equationNumbers: { autoNumber: \"AMS\", useLabelIds: true}\n",
       "                           },\n",
       "                tex2jax: {\n",
       "                    inlineMath: [ ['$','$'], [\"\\\\(\",\"\\\\)\"] ],\n",
       "                    displayMath: [ ['$$','$$'], [\"\\\\[\",\"\\\\]\"] ]\n",
       "                },\n",
       "                displayAlign: 'center', // Change this to 'center' to center equations.\n",
       "                \"HTML-CSS\": {\n",
       "                    styles: {'.MathJax_Display': {\"margin\": 4}}\n",
       "                }\n",
       "        });\n",
       "</script>\n"
      ],
      "text/plain": [
       "<IPython.core.display.HTML object>"
      ]
     },
     "execution_count": 1,
     "metadata": {},
     "output_type": "execute_result"
    }
   ],
   "source": [
    "# Execute this cell to load the notebook's style sheet, then ignore it\n",
    "from IPython.core.display import HTML\n",
    "css_file = '../style/custom.css'\n",
    "HTML(open(css_file, \"r\").read())"
   ]
  },
  {
   "cell_type": "markdown",
   "metadata": {},
   "source": [
    "# 2D Boundary Value Problem Example: Thermal Convection in the Earth Mantle\n",
    "\n",
    "Let's take a look at a more complex boundary value problem - stationary solutions for 2D thermal mantle convection."
   ]
  },
  {
   "cell_type": "markdown",
   "metadata": {},
   "source": [
    "## Thermal Convection in the Earth Mantle\n",
    "\n",
    "We already derived the governing equations for thermal convection in [lecture 3](https://danielkoehnsite.files.wordpress.com/2019/11/lect_03_simple_convection_lorenz_eqs-1.pdf) , when investigating the complex dynamics of the [Lorenz equations](https://github.com/daniel-koehn/Differential-equations-earth-system/tree/master/03_Lorenz_equations#lecture-3-simplified-convection-problem-the-lorenz-equations). Let's shortly revisit the basic results:\n",
    "\n",
    "The full coupled set of scaled PDE's describe the coupling of incompressible 2D Navier Stokes flow with an advection-diffusion equation for temperature, and can be written in dimensionless form as,\n",
    "\n",
    "$$ \n",
    "   \\frac{1}{\\mathrm{Pr}}\\left[ \\frac{\\partial \\omega}{\\partial t} + \\vec{v}\\cdot\\nabla\\omega\\right] = \\nabla^2\\omega + \\mathrm{Ra}\\frac{\\partial T}{\\partial x}\n",
    "$$\n",
    "$$\n",
    "    \\nabla^2 \\psi = -\\omega\n",
    "$$\n",
    "$$ \n",
    "    \\frac{\\partial T}{\\partial t} + \\vec{v}\\cdot\\nabla T = \\nabla^2 T\n",
    "$$\n",
    "\n",
    "where\n",
    "\n",
    "$$\n",
    "    \\vec{v}=(u,0,w) = \\nabla\\times\\psi\\hat{j}=(\\frac{\\partial\\psi}{\\partial z}, 0,  -\\frac{\\partial\\psi}{\\partial x})\n",
    "$$ \n",
    "\n",
    "is the fluid velocity field (which in this form is exactly incompressible with $\\nabla\\cdot\\vec{v}=0$).  $\\psi$ is the \"Streamfunction\"  whose contours are tangent to the fluid trajectories at all times.  The vorticity,\n",
    "\n",
    "$$\n",
    "    \\omega = \\bf{\\vec{\\omega} \\cdot \\hat{j}} = (\\nabla\\times\\vec{v}) \\cdot \\hat{j}\n",
    "$$ \n",
    "\n",
    "measures the local rate of rotation of the fluid, and is driven by horizontal variations in temperature (actually density). $\\hat{j}=(0,1,0)^T$ denotes the unit vector in y-direction.\n",
    "\n",
    "Now, if we are dealing with mantle convection, the Prandtl number Pr becomes very large, actually it can be assumed to be inifinite. Therefore, the governing equations simplify to\n",
    "\n",
    "\\begin{equation}\n",
    "\\begin{split}\n",
    "\\nabla^2\\omega &=  - \\mathrm{Ra}\\frac{\\partial T}{\\partial x} \\\\\n",
    "\\nabla^2 \\psi &= -\\omega \\\\\n",
    "\\nabla^2 T &= \\frac{\\partial T}{\\partial t} + \\vec{v}\\cdot\\nabla T\n",
    "\\end{split} \\tag{1}\n",
    "\\end{equation}\n",
    "\n",
    "Next, we want to focus on finding **stationary solutions** or **fixpoints** of the PDEs describing 2D thermal mantle convection. This problem should already be familiar for you, because we extensively discussed fixpoints, when calculating [stationary solutions of the Lorenz equations](https://nbviewer.jupyter.org/github/daniel-koehn/Differential-equations-earth-system/blob/master/03_Lorenz_equations/02_Stationary_solutions_of_DE.ipynb). Fixpoints are calculated by setting all time derivatives in eqs. (1) to zero, leading to:\n",
    "\n",
    "\\begin{equation}\n",
    "\\begin{split}\n",
    "\\nabla^2\\omega &=  - \\mathrm{Ra}\\frac{\\partial T}{\\partial x} \\\\\n",
    "\\nabla^2 \\psi &= -\\omega \\\\\n",
    "\\nabla^2 T &= \\vec{v}\\cdot\\nabla T\n",
    "\\end{split} \\tag{2}\n",
    "\\end{equation}\n",
    "\n",
    "By inserting the definition of the velocity vector $\\vec{v}=(u,0,w) =(\\frac{\\partial\\psi}{\\partial z}, 0,  -\\frac{\\partial\\psi}{\\partial x})$ using the streamfunction in eqs. (2), we get\n",
    "\n",
    "\\begin{equation}\n",
    "\\begin{split}\n",
    "\\nabla^2\\omega &=  - \\mathrm{Ra}\\frac{\\partial T}{\\partial x} \\\\\n",
    "\\nabla^2 \\psi &= -\\omega \\\\\n",
    "\\nabla^2 T &= \\frac{\\partial\\psi}{\\partial z} \\frac{\\partial T}{\\partial x} - \\frac{\\partial\\psi}{\\partial x} \\frac{\\partial T}{\\partial z}\n",
    "\\end{split} \\tag{3}\n",
    "\\end{equation}\n",
    "\n",
    "Now, take a closer look at eqs. (3). Do you notice the three Poisson equations with Laplace operators on the LHS $Ap$ and some more complex terms on the RHS $b$. So each subproblem can be written as matrix equation:\n",
    "\n",
    "$$\n",
    "Ap = b\n",
    "$$\n",
    "\n",
    "The difference between problem (3) and the Poisson problems discussed in the previous notebooks, is that the Poisson equations are coupled. "
   ]
  },
  {
   "cell_type": "markdown",
   "metadata": {},
   "source": [
    "### Numerical Solution of the 2D thermal mantle convection boundary value problem\n",
    "\n",
    "Time to solve eqs. (3) using the [steepest descent method](https://nbviewer.jupyter.org/github/daniel-koehn/Differential-equations-earth-system/blob/master/07_BVP_2D/03_Iterative_Solvers.ipynb). Starting from initial fields $(\\omega_0,\\psi_0,T_0)$, the iterative algorithm can be summarized at each iteration step $n$ as \n",
    "\n",
    "1. Update the vorticity $\\omega^{(n+1)}$ from the previous temperature field $T^{(n)}$ by solving the Poisson equation\n",
    "\n",
    "$$\n",
    "\\nabla^2\\omega^{(n+1)} =  - \\mathrm{Ra}\\frac{\\partial T^{(n)}}{\\partial x}\n",
    "$$\n",
    "\n",
    "2. Update the streamfunction $\\psi^{(n+1)}$ based on the new vorticity $\\omega^{(n+1)}$ by solving the Poisson equation\n",
    "\n",
    "$$\n",
    "\\nabla^2 \\psi^{(n+1)} = -\\omega^{(n+1)}\n",
    "$$\n",
    "\n",
    "3. Update the temperature field $T^{(n+1)}$ from the new streamfunction $\\psi^{(n+1)}$ by solving the Poisson equation\n",
    "\n",
    "$$\n",
    "\\nabla^2 T^{(n+1)} = \\frac{\\partial\\psi^{(n+1)}}{\\partial z} \\frac{\\partial T^{(n)}}{\\partial x} - \\frac{\\partial\\psi^{(n+1)}}{\\partial x} \\frac{\\partial T^{(n)}}{\\partial z}\n",
    "$$\n",
    "\n",
    "4. Test for convergence:\n",
    "\n",
    "\\begin{equation}\n",
    "\\begin{split}\n",
    "E_T^{(n+1)} &= \\frac{||T^{(n+1)}-T^{(n)}||}{||T^{(n+1)}||}\\\\\n",
    "E_{\\psi}^{(n+1)} &= \\frac{||\\psi^{(n+1)}-\\psi^{(n)}||}{||\\psi^{(n+1)}||}\\\\\n",
    "\\end{split} \\notag\n",
    "\\end{equation}\n",
    "\n",
    "5. If $E_T^{(n+1)} \\le \\epsilon_{T}$ and $E_\\psi^{(n+1)} \\le \\epsilon_{\\psi}$ are satisfied, stop the iteration, otherwise continue step 1.\n",
    "\n",
    "It's coding time. As usual, we start by importing some basic Python libraries and set up the plotting environment."
   ]
  },
  {
   "cell_type": "code",
   "execution_count": 2,
   "metadata": {
    "code_folding": [
     0
    ]
   },
   "outputs": [],
   "source": [
    "# Import libraries\n",
    "import numpy\n",
    "from matplotlib import pyplot\n",
    "%matplotlib inline\n",
    "\n",
    "# import JIT from Numba\n",
    "from numba import jit\n",
    "\n",
    "# import Numpy Linear Algebra package \n",
    "from numpy import linalg as LA"
   ]
  },
  {
   "cell_type": "code",
   "execution_count": 3,
   "metadata": {},
   "outputs": [],
   "source": [
    "# Set the font family and size to use for Matplotlib figures.\n",
    "pyplot.rcParams['font.family'] = 'serif'\n",
    "pyplot.rcParams['font.size'] = 16"
   ]
  },
  {
   "cell_type": "markdown",
   "metadata": {},
   "source": [
    "For the steepest descent method, we need a function to compute the action of the Laplace operator $\\frac{\\partial^2 u}{\\partial x^2}+\\frac{\\partial^2 u}{\\partial z^2}$ on an abritary field $u$. In `Alapl` the second derivatives are apprximated by the three-point central operator:"
   ]
  },
  {
   "cell_type": "code",
   "execution_count": 4,
   "metadata": {},
   "outputs": [],
   "source": [
    "# Compute Laplace operator applied to scalar field u\n",
    "@jit(nopython=True) # use Just-In-Time (JIT) Compilation for C-performance\n",
    "def Alapl(u,nx,nz,dx2,dz2):\n",
    "    \n",
    "    A = numpy.zeros_like(u)\n",
    "    \n",
    "    # loop over spatial grid \n",
    "    for i in range(1,nx-1):\n",
    "        for j in range(1,nz-1):                \n",
    "                \n",
    "            # Compute Laplace operator for scalar field u\n",
    "            d2udx2 = (u[j, i+1] + u[j, i-1] - 2 * u[j, i]) / dx2\n",
    "            d2udz2 = (u[j+1, i] + u[j-1, i] - 2 * u[j, i]) / dz2                                 \n",
    "                            \n",
    "            A[j, i] = d2udx2 + d2udz2\n",
    "            \n",
    "    return A         "
   ]
  },
  {
   "cell_type": "markdown",
   "metadata": {},
   "source": [
    "Next, we have to define the RHS $b$ for the vorticity equation `bw` ..."
   ]
  },
  {
   "cell_type": "code",
   "execution_count": 5,
   "metadata": {},
   "outputs": [],
   "source": [
    "# Compute b for vorticity equation\n",
    "@jit(nopython=True) # use Just-In-Time (JIT) Compilation for C-performance\n",
    "def bw(T,nx,nz,dx,Ra):\n",
    "    \n",
    "    b = numpy.zeros_like(T)\n",
    "    \n",
    "    # loop over spatial grid \n",
    "    for i in range(1,nx-1):\n",
    "        for j in range(1,nz-1):                \n",
    "                \n",
    "            # Compute b for vorticity equation\n",
    "            dTdx = - Ra * (T[j,i+1] - T[j,i]) / dx                                 \n",
    "                            \n",
    "            b[j, i] = dTdx\n",
    "            \n",
    "    return b"
   ]
  },
  {
   "cell_type": "markdown",
   "metadata": {},
   "source": [
    "... and the temperature equation `bT`"
   ]
  },
  {
   "cell_type": "code",
   "execution_count": 6,
   "metadata": {},
   "outputs": [],
   "source": [
    "# Compute b for temperature equation\n",
    "@jit(nopython=True) # use Just-In-Time (JIT) Compilation for C-performance\n",
    "def bT(T,psi,nx,nz,dx,dz):\n",
    "    \n",
    "    b = numpy.zeros_like(T)\n",
    "    \n",
    "    # loop over spatial grid \n",
    "    for i in range(1,nx-1):\n",
    "        for j in range(1,nz-1):                \n",
    "                \n",
    "            # Compute b for temperature equation\n",
    "            dTdx = (T[j,i+1] - T[j,i]) / dx\n",
    "            dTdz = (T[j+1,i] - T[j,i]) / dz\n",
    "        \n",
    "            dpsidx = (psi[j,i+1] - psi[j,i]) / dx\n",
    "            dpsidz = (psi[j+1,i] - psi[j,i]) / dz                                \n",
    "                            \n",
    "            b[j, i] = dpsidz * dTdx - dpsidx * dTdz\n",
    "            \n",
    "    return b"
   ]
  },
  {
   "cell_type": "markdown",
   "metadata": {},
   "source": [
    "Next, we can solve the governing eqs. (3) using the iterative numerical method described above with the steepest descent method in the function `mantle_convection_bvp`"
   ]
  },
  {
   "cell_type": "code",
   "execution_count": 7,
   "metadata": {},
   "outputs": [],
   "source": [
    "# 2D thermal mantle convection code with JIT optimization\n",
    "# -------------------------------------------------------\n",
    "def mantle_convection_bvp(T0, psi0, w0, niter, dx, dz, Ra, tol):\n",
    "    \"\"\"\n",
    "    Computes and returns the stationary temperature, streamfunction \n",
    "    and vorticity fields for the 2D thermal mantle convection problem \n",
    "    using the steepest descent method.\n",
    "    \n",
    "    Parameters\n",
    "    ----------\n",
    "    T0 : numpy.ndarray\n",
    "        The initial temperature distribution as a 2D array of floats.\n",
    "    psi0 : numpy.ndarray\n",
    "        The initial streamfunction as a 2D array of floats.    \n",
    "    w0 : numpy.ndarray\n",
    "        The initial vorticity as a 2D array of floats.    \n",
    "    niter : integer\n",
    "        Maximum number of iterations using the steepest descent method.    \n",
    "    dx : float\n",
    "        Grid spacing in the x direction.\n",
    "    dz : float\n",
    "        Grid spacing in the z direction.\n",
    "    Ra : float\n",
    "        Rayleigh number.\n",
    "    tol : float\n",
    "        tolerance for abortion criterion.\n",
    "    \n",
    "    \n",
    "    Returns\n",
    "    -------\n",
    "    T : numpy.ndarray\n",
    "        The temperature distribution as a 2D array of floats.\n",
    "    psi : numpy.ndarray\n",
    "        The streamfunction as a 2D array of floats.    \n",
    "    w : numpy.ndarray\n",
    "        The vorticity as a 2D array of floats.    \n",
    "    \"\"\"\n",
    "    \n",
    "    # Define some constants.\n",
    "    dx2 = dx**2\n",
    "    dz2 = dz**2\n",
    "    \n",
    "    # Copy fields\n",
    "    T = T0.copy()\n",
    "    psi = psi0.copy()\n",
    "    w = w0.copy()\n",
    "    \n",
    "    r = numpy.zeros_like(psi)    # initial residuals\n",
    "    Ar = numpy.zeros_like(psi)   # store mat-vec multiplication Ar\n",
    "    \n",
    "    # Estimate number of grid points in x- and y-direction\n",
    "    nz, nx = T.shape\n",
    "    \n",
    "    # Stabilization factor eps \n",
    "    eps = 0.\n",
    "    \n",
    "    # Iterate solution using the steepest descent method\n",
    "    for n in range(niter):\n",
    "        \n",
    "        # 1. Compute new vorticity from previous temperature\n",
    "        # --------------------------------------------------\n",
    "        # store old T\n",
    "        wk = w.copy()\n",
    "        \n",
    "        # Compute the residual.\n",
    "        r = bw(T,nx,nz,dx,Ra) - Alapl(w,nx,nz,dx2,dz2)\n",
    "        \n",
    "        # Compute the Laplacian of the residual.\n",
    "        Ar = Alapl(r,nx,nz,dx2,dz2)\n",
    "        \n",
    "        # Compute the step size.\n",
    "        alpha = numpy.sum(r * r) / (numpy.sum(r * Ar) + eps)\n",
    "        \n",
    "        # Update the vorticity solution.\n",
    "        w = wk + alpha * r\n",
    "        \n",
    "        # 2. Compute new streamfunction from new vorticity\n",
    "        # ------------------------------------------------\n",
    "        # store old T\n",
    "        psik = psi.copy()\n",
    "        \n",
    "        # Compute the residual.\n",
    "        r = - w - Alapl(psi,nx,nz,dx2,dz2)\n",
    "        \n",
    "        # Compute the Laplacian of the residual.\n",
    "        Ar = Alapl(r,nx,nz,dx2,dz2)\n",
    "        \n",
    "        # Compute the step size.\n",
    "        alpha = numpy.sum(r * r) / (numpy.sum(r * Ar) + eps)\n",
    "        \n",
    "        # Update the streamfunction solution.\n",
    "        psi = psik + alpha * r\n",
    "        \n",
    "        # 3. Compute new temperature from new streamfunction\n",
    "        # --------------------------------------------------\n",
    "        # store old T\n",
    "        Tk = T.copy()\n",
    "        \n",
    "        # Compute the residual.\n",
    "        r = bT(T,psi,nx,nz,dx,dz) - Alapl(T,nx,nz,dx2,dz2)\n",
    "        \n",
    "        # Compute the Laplacian of the residual.\n",
    "        Ar = Alapl(r,nx,nz,dx2,dz2)\n",
    "        \n",
    "        # Compute the step size.\n",
    "        alpha = numpy.sum(r * r) / (numpy.sum(r * Ar) + eps)\n",
    "        \n",
    "        # Update the temperature solution.\n",
    "        T = Tk + alpha * r\n",
    "        \n",
    "        # Apply Neumann boundary condition (dTdx=0) at left and right boundary\n",
    "        T[:,0] = T[:,1]\n",
    "        T[:,-1] = T[:,-2]\n",
    "        \n",
    "        # Compute relative L2 norm of temperature and streamfunction \n",
    "        ET = LA.norm(T-Tk, 2) / LA.norm(T, 2)\n",
    "        Epsi = LA.norm(psi-psik, 2) / LA.norm(psi, 2)\n",
    "        \n",
    "        # check if tolerance criterion is satisfied\n",
    "        if(max(ET,Epsi) <= tol):\n",
    "            print(\"ET = \", ET)\n",
    "            print(\"Final Epsi = \", Epsi)\n",
    "            print(\"n = \", n)\n",
    "            break\n",
    "        \n",
    "        if(n==niter-1):\n",
    "            print(\"Final ET = \", ET)\n",
    "            print(\"Final Epsi = \", Epsi)\n",
    "            \n",
    "    return T, w, psi"
   ]
  },
  {
   "cell_type": "markdown",
   "metadata": {},
   "source": [
    "Let's assume that the dimensionless width of the lithosphere is $ L_x = 1$ in x-direction and it has a thickness of $L_z = 1$. The model is discretized with $nx=101$ gridpoints in x-direction and $ny=101$ gridpoints in z-direction. Regarding the thermal properties, assume a dimensionless temperature of $\\text{Tbot} = 1$ at the bottom of the mantle and a temperature $\\text{Tsurf} = 0$ at the top boundary. \n",
    "\n",
    "Furthermore, we have to make an initial guess for the temperature field $T_0$ in the mantle. Let 's assume it consists of two parts:\n",
    "\n",
    "$$\n",
    "T_0 = T_{lin} - T_{2D}\n",
    "$$\n",
    "\n",
    "a 1D linear temperature gradient\n",
    "\n",
    "$$\n",
    "T_{lin} = \\frac{(Tbot-Tsurf)}{Lz} * Z + Tsurf\n",
    "$$\n",
    "\n",
    "and a 2D temperature variation in x-direction:\n",
    "\n",
    "$$\n",
    "T_{2D} = p\\; cos\\biggl(\\frac{k \\pi x}{L_x}\\biggr) sin(\\pi z)\n",
    "$$\n",
    "\n",
    "Does the 2D temperature distribution look familiar? You have already encountered it, when dealing with the [Lorenz equations](https://nbviewer.jupyter.org/github/daniel-koehn/Differential-equations-earth-system/blob/master/03_Lorenz_equations/01_LorenzEquations_intro.ipynb). It was one of the modes of the highly truncated Fourier series of the temperature field.\n",
    "\n",
    "##### Exercise 1\n",
    "\n",
    "Why can we not just use the simple linear increasing temperature gradient $T_{lin}$ from top to bottom as initial guess for the temperature field? Hint: take a closer look at the algorithm described in the section \"Numerical Solution of the 2D thermal mantle convection boundary value problem\" above.\n",
    "\n",
    "Regarding the parameters $p$ and $k$, I used $p=0.01$ and $k=1$ from the [manual of the mantle convection code ASPECT](http://www.math.clemson.edu/~heister/manual.pdf). For the initial streamfunction and vorticity, we assume $\\psi_0(x,z)=\\omega_0(x,z)=0$. Furthermore, Dirichlet boundary condtions for $psi$ and $\\omega$ are set to \n",
    "\n",
    "\\begin{equation}\n",
    "\\begin{split}\n",
    "\\psi(0,z) &= \\psi(L_x,z) = \\psi(x,0) = \\psi(x,L_z) = 0\\\\  \n",
    "\\omega(0,z) &= \\omega(L_x,z) = \\omega(x,0) = \\omega(x,L_z) = 0\\\\  \n",
    "\\end{split} \\notag\n",
    "\\end{equation}\n",
    "\n",
    "For the temperature distribution $T$ Dirichlet boundary condtions are assumed on the top and bottom boundary:\n",
    "\\begin{equation}\n",
    "\\begin{split}\n",
    "T(x,0) &= \\text{Tsurf} = 0\\\\\n",
    "T(x,L_z) &= \\text{Tbot} = 1\\\\\n",
    "\\end{split}\\notag\n",
    "\\end{equation}\n",
    "\n",
    "Neumann boundary conditions are set at the left and right boundary\n",
    "\n",
    "\\begin{equation}\n",
    "\\begin{split}\n",
    "&\\frac{\\partial T}{\\partial x}(0,z) = 0\\\\\n",
    "&\\frac{\\partial T}{\\partial x}(L_x,z) = 0\\\\\n",
    "\\end{split}\\notag\n",
    "\\end{equation}"
   ]
  },
  {
   "cell_type": "code",
   "execution_count": 8,
   "metadata": {
    "code_folding": [],
    "scrolled": false
   },
   "outputs": [],
   "source": [
    "# Definition of modelling parameters\n",
    "# ----------------------------------\n",
    "Lx = 1.0     # width of the mantle in the x direction []\n",
    "Lz = 1.0     # thickness of the mantle in the z direction []\n",
    "nx = 101     # number of points in the x direction\n",
    "nz = 101     # number of points in the z direction\n",
    "dx = Lx / (nx - 1)  # grid spacing in the x direction []\n",
    "dz = Lz / (nz - 1)  # grid spacing in the z direction []\n",
    "\n",
    "# Define the locations along a gridline.\n",
    "x = numpy.linspace(0.0, Lx, num=nx)\n",
    "z = numpy.linspace(0.0, Lz, num=nz)\n",
    "\n",
    "# Define initial temperature guess\n",
    "Tbot = 1.     # temperature at the bottom boundary []\n",
    "Tsurf = 0.    # temperature at the top boundary []\n",
    "\n",
    "X, Z = numpy.meshgrid(x,z) # coordinates X,Z required to define T0\n",
    "\n",
    "# Assume 1D linear increasing temperature profile with 2D perturbation\n",
    "Tlin = (Tbot-Tsurf)/Lz * Z + Tsurf # linear temperature increase with depth\n",
    "\n",
    "# 2D temperature perturbation in x-direction with parameters from \n",
    "# the ASPECT mantle convection manual\n",
    "p = 0.01\n",
    "k = 1.\n",
    "T2D = p * numpy.cos(k * numpy.pi * X / Lx) * numpy.sin(numpy.pi * Z)\n",
    "\n",
    "# Initial temperature distribution\n",
    "T0 = Tlin - T2D \n",
    "\n",
    "# Apply Dirichlet boundary condition for the temperature \n",
    "# at the top and bottom boundary\n",
    "T0[0,:] = Tsurf\n",
    "T0[-1,:] = Tbot\n",
    "\n",
    "# Define initial streamfunction guess\n",
    "psi0 = numpy.zeros((nz,nx))\n",
    "\n",
    "# Define initial vorticity guess\n",
    "w0 = numpy.zeros((nz,nx))"
   ]
  },
  {
   "cell_type": "markdown",
   "metadata": {},
   "source": [
    "After setting all modelling parameters, we can run the `mantle_convection_bvp` modelling code to compute the numerical solution after `niter=10000` iterations for a Rayleigh number `Ra=1e5` above the critical Rayleigh number:"
   ]
  },
  {
   "cell_type": "code",
   "execution_count": 9,
   "metadata": {
    "scrolled": false
   },
   "outputs": [
    {
     "name": "stdout",
     "output_type": "stream",
     "text": [
      "Final ET =  0.0006510623946767165\n",
      "Final Epsi =  0.001647934084594864\n"
     ]
    }
   ],
   "source": [
    "# Define maximum number of iterations niter and tolerance tol\n",
    "niter = 10000\n",
    "tol = 1e-4\n",
    "\n",
    "# Define Rayleigh number []\n",
    "Ra = 1e5\n",
    "\n",
    "# Compute temperature, streamfunction and temperature distribution\n",
    "T, w, psi = mantle_convection_bvp(T0, psi0, w0, niter, dx, dz, Ra, tol)"
   ]
  },
  {
   "cell_type": "markdown",
   "metadata": {},
   "source": [
    "In order to visualize the temperature and velocity fields, we first compute the velocities from the streamfunction ..."
   ]
  },
  {
   "cell_type": "code",
   "execution_count": 10,
   "metadata": {},
   "outputs": [],
   "source": [
    "# Compute velocity field from stream function with JIT-optimization\n",
    "@jit(nopython=True) # use Just-In-Time (JIT) Compilation for C-performance\n",
    "def stream2uw(psi,nx,nz,dx,dz):\n",
    "    \n",
    "    # initialize u and w velocity components\n",
    "    u = numpy.zeros_like(psi)\n",
    "    w = numpy.zeros_like(psi)\n",
    "    \n",
    "    # loop over spatial grid \n",
    "    for i in range(1,nx-1):\n",
    "        for j in range(1,nz-1):\n",
    "            \n",
    "            # compute velocity components u, w from streamfunction\n",
    "            u[j, i] = (psi[j+1, i] - psi[j, i]) / dz\n",
    "            w[j, i] = -(psi[j, i+1] - psi[j, i]) / dx\n",
    "    \n",
    "    return u, w"
   ]
  },
  {
   "cell_type": "code",
   "execution_count": 11,
   "metadata": {},
   "outputs": [],
   "source": [
    "u, w = stream2uw(psi,nx,nz,dx,dz)"
   ]
  },
  {
   "cell_type": "markdown",
   "metadata": {},
   "source": [
    "... and use the `quiver` function to plot the velocity field and `contourf` to plot the temperature"
   ]
  },
  {
   "cell_type": "code",
   "execution_count": 12,
   "metadata": {},
   "outputs": [
    {
     "data": {
      "text/plain": [
       "(0, 1.0)"
      ]
     },
     "execution_count": 12,
     "metadata": {},
     "output_type": "execute_result"
    },
    {
     "data": {
      "image/png": "[encoded data removed]",
      "text/plain": [
       "<Figure size 540x432 with 2 Axes>"
      ]
     },
     "metadata": {
      "needs_background": "light"
     },
     "output_type": "display_data"
    }
   ],
   "source": [
    "# Filled contour of the temperature distribution \n",
    "# and quiver plot of the velocity field\n",
    "pyplot.figure(figsize=(7.5, 6.0))\n",
    "pyplot.xlabel('x []')\n",
    "pyplot.ylabel('z []')\n",
    "levels = numpy.linspace(numpy.min(T), numpy.max(T), num=201)\n",
    "contf = pyplot.contourf(x, z, T, levels=levels, cmap='jet')\n",
    "cbar = pyplot.colorbar(contf)\n",
    "cbar.set_label('Temperature []')\n",
    "\n",
    "# define new spatial sample interval for quiver plot\n",
    "pyplot.streamplot(X, Z, u, w, linewidth=1, color='k')\n",
    "pyplot.axis('scaled', adjustable='box');\n",
    "pyplot.gca().invert_yaxis()\n",
    "pyplot.xlim(0,Lx)"
   ]
  },
  {
   "cell_type": "markdown",
   "metadata": {},
   "source": [
    "The resulting temperature and velocity field for `Ra=1e5` after 10000 iterations of the steepest descent method shows a convection roll rotating in counter-clockwise direction. Hot material is rising at the right boundary, cools at the top and descends at the left boundary, to be heated again at the bottom. \n",
    "\n",
    "##### Exercise 2 \n",
    "\n",
    "Compare the numerical solution of eqs. (3) above with the stationary solutions, you computed for the Lorenz problem in [this notebook](https://nbviewer.jupyter.org/github/daniel-koehn/Differential-equations-earth-system/blob/master/03_Lorenz_equations/02_Stationary_solutions_of_DE.ipynb) for a Rayleighnumber 28x larger than the critical Rayleighnumber. You might have noticed, that the convergence criterion of the `mantle_convection_bvp` modelling code was not satisfied after `niter=10000` iterations. Run the code again with `niter=20000`. Visualize the results, compare them again with the stationary solutions of the Lorenz equations. Make an assumption, why the abortion criterion was still not satisfied after 20000 iterations. Hint: remember the dynamical evolution of the Lorenz equations for different Rayleighnumbers, you computed in [this notebook](https://nbviewer.jupyter.org/github/daniel-koehn/Differential-equations-earth-system/blob/master/03_Lorenz_equations/03_LorenzEquations_fdsolve.ipynb)."
   ]
  },
  {
   "cell_type": "code",
   "execution_count": null,
   "metadata": {
    "scrolled": false
   },
   "outputs": [],
   "source": [
    "# Define maximum number of iterations niter and tolerance tol\n",
    "niter = 20000\n",
    "tol = 1e-4\n",
    "\n",
    "# Define Rayleigh number []\n",
    "Ra = 1e5\n",
    "\n",
    "# Compute temperature, streamfunction and temperature distribution\n",
    "T, w, psi = mantle_convection_bvp(T0, psi0, w0, niter, dx, dz, Ra, tol)"
   ]
  },
  {
   "cell_type": "markdown",
   "metadata": {},
   "source": [
    "In order to visualize the temperature and velocity fields, we first compute the velocities from the streamfunction ..."
   ]
  },
  {
   "cell_type": "code",
   "execution_count": null,
   "metadata": {},
   "outputs": [],
   "source": [
    "u, w = stream2uw(psi,nx,nz,dx,dz)"
   ]
  },
  {
   "cell_type": "markdown",
   "metadata": {},
   "source": [
    "... and use the `quiver` function to plot the velocity field and `contourf` to plot the temperature"
   ]
  },
  {
   "cell_type": "code",
   "execution_count": null,
   "metadata": {},
   "outputs": [],
   "source": [
    "# Filled contour of the temperature distribution \n",
    "# and quiver plot of the velocity field\n",
    "pyplot.figure(figsize=(7.5, 6.0))\n",
    "pyplot.xlabel('x []')\n",
    "pyplot.ylabel('z []')\n",
    "levels = numpy.linspace(numpy.min(T), numpy.max(T), num=201)\n",
    "contf = pyplot.contourf(x, z, T, levels=levels, cmap='jet')\n",
    "cbar = pyplot.colorbar(contf)\n",
    "cbar.set_label('Temperature []')\n",
    "\n",
    "# define new spatial sample interval for quiver plot\n",
    "pyplot.streamplot(X, Z, u, w, linewidth=1, color='k')\n",
    "pyplot.axis('scaled', adjustable='box');\n",
    "pyplot.gca().invert_yaxis()\n",
    "pyplot.xlim(0,Lx)"
   ]
  },
  {
   "cell_type": "markdown",
   "metadata": {},
   "source": [
    "##### Exercise 3\n",
    "\n",
    "What happens if you set the Rayleighnumber below the critical Rayleigh number, let 's say to `Ra = 1e1`? Again, describe the modelling result and compare with the stationary solution of the Lorenz equation for sub-critical Rayleigh numbers.  "
   ]
  },
  {
   "cell_type": "code",
   "execution_count": null,
   "metadata": {
    "scrolled": false
   },
   "outputs": [],
   "source": [
    "# Define maximum number of iterations niter and tolerance tol\n",
    "niter = 20000\n",
    "tol = 1e-4\n",
    "\n",
    "# Define Rayleigh number []\n",
    "Ra = 1e1\n",
    "\n",
    "# Compute temperature, streamfunction and temperature distribution\n",
    "T, w, psi = mantle_convection_bvp(T0, psi0, w0, niter, dx, dz, Ra, tol)"
   ]
  },
  {
   "cell_type": "markdown",
   "metadata": {},
   "source": [
    "In order to visualize the temperature and velocity fields, we first compute the velocities from the streamfunction ..."
   ]
  },
  {
   "cell_type": "code",
   "execution_count": null,
   "metadata": {},
   "outputs": [],
   "source": [
    "u, w = stream2uw(psi,nx,nz,dx,dz)"
   ]
  },
  {
   "cell_type": "markdown",
   "metadata": {},
   "source": [
    "... and use the `quiver` function to plot the velocity field and `contourf` to plot the temperature"
   ]
  },
  {
   "cell_type": "code",
   "execution_count": null,
   "metadata": {},
   "outputs": [],
   "source": [
    "# Filled contour of the temperature distribution \n",
    "# and quiver plot of the velocity field\n",
    "pyplot.figure(figsize=(7.5, 6.0))\n",
    "pyplot.xlabel('x []')\n",
    "pyplot.ylabel('z []')\n",
    "levels = numpy.linspace(numpy.min(T), numpy.max(T), num=201)\n",
    "contf = pyplot.contourf(x, z, T, levels=levels, cmap='jet')\n",
    "cbar = pyplot.colorbar(contf)\n",
    "cbar.set_label('Temperature []')\n",
    "\n",
    "# define new spatial sample interval for quiver plot\n",
    "pyplot.streamplot(X, Z, u, w, linewidth=1, color='k')\n",
    "pyplot.axis('scaled', adjustable='box');\n",
    "pyplot.gca().invert_yaxis()\n",
    "pyplot.xlim(0,Lx)"
   ]
  },
  {
   "cell_type": "markdown",
   "metadata": {},
   "source": [
    "## What we learned:\n",
    "\n",
    "* How to compute and visualize steady state solutions for the 2D thermal convection problem using the steepest descent method."
   ]
  }
 ],
 "metadata": {
  "anaconda-cloud": {},
  "kernelspec": {
   "display_name": "Python 3",
   "language": "python",
   "name": "python3"
  },
  "language_info": {
   "codemirror_mode": {
    "name": "ipython",
    "version": 3
   },
   "file_extension": ".py",
   "mimetype": "text/x-python",
   "name": "python",
   "nbconvert_exporter": "python",
   "pygments_lexer": "ipython3",
   "version": "3.7.4"
  }
 },
 "nbformat": 4,
 "nbformat_minor": 1
}
